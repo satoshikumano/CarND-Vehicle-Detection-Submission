version https://git-lfs.github.com/spec/v1
oid sha256:842579ef76a9175ab44a123bf8c143f1f469e1bb544c9943ccfc3050e564b635
size 2474178
